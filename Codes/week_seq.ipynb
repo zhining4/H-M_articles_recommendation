{
 "cells": [
  {
   "cell_type": "code",
   "execution_count": 2,
   "id": "f273dced",
   "metadata": {},
   "outputs": [],
   "source": [
    "%load_ext memory_profiler"
   ]
  },
  {
   "cell_type": "code",
   "execution_count": 1,
   "id": "0de7d6dd",
   "metadata": {},
   "outputs": [
    {
     "name": "stdout",
     "output_type": "stream",
     "text": [
      "INFO: Pandarallel will run on 8 workers.\n",
      "INFO: Pandarallel will use standard multiprocessing data transfer (pipe) to transfer data between the main process and workers.\n",
      "\n",
      "WARNING: You are on Windows. If you detect any issue with pandarallel, be sure you checked out the Troubleshooting page:\n",
      "https://nalepae.github.io/pandarallel/troubleshooting/\n"
     ]
    }
   ],
   "source": [
    "import pandas as pd\n",
    "from pandarallel import pandarallel\n",
    "\n",
    "pandarallel.initialize(progress_bar=True)"
   ]
  },
  {
   "cell_type": "code",
   "execution_count": 3,
   "id": "2e7da659",
   "metadata": {},
   "outputs": [
    {
     "name": "stdout",
     "output_type": "stream",
     "text": [
      "peak memory: 1344.94 MiB, increment: 1241.75 MiB\n"
     ]
    }
   ],
   "source": [
    "%%memit\n",
    "cust_week = pd.read_csv(\"./cust_week.csv\")"
   ]
  },
  {
   "cell_type": "code",
   "execution_count": null,
   "id": "886006b9",
   "metadata": {},
   "outputs": [],
   "source": []
  },
  {
   "cell_type": "code",
   "execution_count": 4,
   "id": "850d4cf0",
   "metadata": {},
   "outputs": [
    {
     "data": {
      "text/plain": [
       "count    1.362281e+06\n",
       "mean     5.937411e+00\n",
       "std      7.660700e+00\n",
       "min      1.000000e+00\n",
       "25%      1.000000e+00\n",
       "50%      3.000000e+00\n",
       "75%      8.000000e+00\n",
       "max      1.040000e+02\n",
       "dtype: float64"
      ]
     },
     "execution_count": 4,
     "metadata": {},
     "output_type": "execute_result"
    }
   ],
   "source": [
    "# Num of active weeks\n",
    "cust_week.groupby(\"customer_id\").size().describe()"
   ]
  },
  {
   "cell_type": "code",
   "execution_count": 5,
   "id": "aa6912e5",
   "metadata": {},
   "outputs": [],
   "source": [
    "toy = cust_week.query(\"customer_id=='ffffcd5046a6143d29a04fb8c424ce494a76e5cdf4fab53481233731b5c4f8b7'\")"
   ]
  },
  {
   "cell_type": "code",
   "execution_count": 6,
   "id": "ff64f3d0",
   "metadata": {},
   "outputs": [
    {
     "data": {
      "text/html": [
       "<div>\n",
       "<style scoped>\n",
       "    .dataframe tbody tr th:only-of-type {\n",
       "        vertical-align: middle;\n",
       "    }\n",
       "\n",
       "    .dataframe tbody tr th {\n",
       "        vertical-align: top;\n",
       "    }\n",
       "\n",
       "    .dataframe thead th {\n",
       "        text-align: right;\n",
       "    }\n",
       "</style>\n",
       "<table border=\"1\" class=\"dataframe\">\n",
       "  <thead>\n",
       "    <tr style=\"text-align: right;\">\n",
       "      <th></th>\n",
       "      <th>customer_id</th>\n",
       "      <th>week</th>\n",
       "      <th>0</th>\n",
       "    </tr>\n",
       "  </thead>\n",
       "  <tbody>\n",
       "    <tr>\n",
       "      <th>8088383</th>\n",
       "      <td>ffffcd5046a6143d29a04fb8c424ce494a76e5cdf4fab5...</td>\n",
       "      <td>38</td>\n",
       "      <td>[671695001]</td>\n",
       "    </tr>\n",
       "    <tr>\n",
       "      <th>8088384</th>\n",
       "      <td>ffffcd5046a6143d29a04fb8c424ce494a76e5cdf4fab5...</td>\n",
       "      <td>46</td>\n",
       "      <td>[562245015, 562245018, 562245004]</td>\n",
       "    </tr>\n",
       "    <tr>\n",
       "      <th>8088385</th>\n",
       "      <td>ffffcd5046a6143d29a04fb8c424ce494a76e5cdf4fab5...</td>\n",
       "      <td>50</td>\n",
       "      <td>[657924001]</td>\n",
       "    </tr>\n",
       "    <tr>\n",
       "      <th>8088386</th>\n",
       "      <td>ffffcd5046a6143d29a04fb8c424ce494a76e5cdf4fab5...</td>\n",
       "      <td>62</td>\n",
       "      <td>[625939035, 624486001, 702404001, 624486003]</td>\n",
       "    </tr>\n",
       "    <tr>\n",
       "      <th>8088387</th>\n",
       "      <td>ffffcd5046a6143d29a04fb8c424ce494a76e5cdf4fab5...</td>\n",
       "      <td>69</td>\n",
       "      <td>[740652003, 700851002, 676979007, 507909001, 7...</td>\n",
       "    </tr>\n",
       "    <tr>\n",
       "      <th>8088388</th>\n",
       "      <td>ffffcd5046a6143d29a04fb8c424ce494a76e5cdf4fab5...</td>\n",
       "      <td>82</td>\n",
       "      <td>[703160006, 685811001, 624486028, 624486051, 6...</td>\n",
       "    </tr>\n",
       "    <tr>\n",
       "      <th>8088389</th>\n",
       "      <td>ffffcd5046a6143d29a04fb8c424ce494a76e5cdf4fab5...</td>\n",
       "      <td>85</td>\n",
       "      <td>[759871004, 759871002, 759871001]</td>\n",
       "    </tr>\n",
       "    <tr>\n",
       "      <th>8088390</th>\n",
       "      <td>ffffcd5046a6143d29a04fb8c424ce494a76e5cdf4fab5...</td>\n",
       "      <td>92</td>\n",
       "      <td>[809025002, 660308001, 681373016, 674606037, 7...</td>\n",
       "    </tr>\n",
       "    <tr>\n",
       "      <th>8088391</th>\n",
       "      <td>ffffcd5046a6143d29a04fb8c424ce494a76e5cdf4fab5...</td>\n",
       "      <td>99</td>\n",
       "      <td>[706016025, 706016028, 702208002, 706016015, 7...</td>\n",
       "    </tr>\n",
       "    <tr>\n",
       "      <th>8088392</th>\n",
       "      <td>ffffcd5046a6143d29a04fb8c424ce494a76e5cdf4fab5...</td>\n",
       "      <td>106</td>\n",
       "      <td>[818754003, 624486010, 699623004, 759871013]</td>\n",
       "    </tr>\n",
       "    <tr>\n",
       "      <th>8088393</th>\n",
       "      <td>ffffcd5046a6143d29a04fb8c424ce494a76e5cdf4fab5...</td>\n",
       "      <td>107</td>\n",
       "      <td>[699623004, 765517001, 663568009, 783333003, 7...</td>\n",
       "    </tr>\n",
       "    <tr>\n",
       "      <th>8088394</th>\n",
       "      <td>ffffcd5046a6143d29a04fb8c424ce494a76e5cdf4fab5...</td>\n",
       "      <td>112</td>\n",
       "      <td>[819522002, 796705002, 829204002, 806135009, 8...</td>\n",
       "    </tr>\n",
       "    <tr>\n",
       "      <th>8088395</th>\n",
       "      <td>ffffcd5046a6143d29a04fb8c424ce494a76e5cdf4fab5...</td>\n",
       "      <td>118</td>\n",
       "      <td>[687034024, 739590040, 879891001, 739819009, 8...</td>\n",
       "    </tr>\n",
       "    <tr>\n",
       "      <th>8088396</th>\n",
       "      <td>ffffcd5046a6143d29a04fb8c424ce494a76e5cdf4fab5...</td>\n",
       "      <td>119</td>\n",
       "      <td>[845790003, 877009001, 818754002]</td>\n",
       "    </tr>\n",
       "    <tr>\n",
       "      <th>8088397</th>\n",
       "      <td>ffffcd5046a6143d29a04fb8c424ce494a76e5cdf4fab5...</td>\n",
       "      <td>123</td>\n",
       "      <td>[834217009, 841699003, 511105013, 835802004, 8...</td>\n",
       "    </tr>\n",
       "    <tr>\n",
       "      <th>8088398</th>\n",
       "      <td>ffffcd5046a6143d29a04fb8c424ce494a76e5cdf4fab5...</td>\n",
       "      <td>131</td>\n",
       "      <td>[805370005, 668012013, 685816044]</td>\n",
       "    </tr>\n",
       "    <tr>\n",
       "      <th>8088399</th>\n",
       "      <td>ffffcd5046a6143d29a04fb8c424ce494a76e5cdf4fab5...</td>\n",
       "      <td>135</td>\n",
       "      <td>[853654012, 624486088, 853654002, 759871030]</td>\n",
       "    </tr>\n",
       "    <tr>\n",
       "      <th>8088400</th>\n",
       "      <td>ffffcd5046a6143d29a04fb8c424ce494a76e5cdf4fab5...</td>\n",
       "      <td>137</td>\n",
       "      <td>[762846031]</td>\n",
       "    </tr>\n",
       "  </tbody>\n",
       "</table>\n",
       "</div>"
      ],
      "text/plain": [
       "                                               customer_id  week  \\\n",
       "8088383  ffffcd5046a6143d29a04fb8c424ce494a76e5cdf4fab5...    38   \n",
       "8088384  ffffcd5046a6143d29a04fb8c424ce494a76e5cdf4fab5...    46   \n",
       "8088385  ffffcd5046a6143d29a04fb8c424ce494a76e5cdf4fab5...    50   \n",
       "8088386  ffffcd5046a6143d29a04fb8c424ce494a76e5cdf4fab5...    62   \n",
       "8088387  ffffcd5046a6143d29a04fb8c424ce494a76e5cdf4fab5...    69   \n",
       "8088388  ffffcd5046a6143d29a04fb8c424ce494a76e5cdf4fab5...    82   \n",
       "8088389  ffffcd5046a6143d29a04fb8c424ce494a76e5cdf4fab5...    85   \n",
       "8088390  ffffcd5046a6143d29a04fb8c424ce494a76e5cdf4fab5...    92   \n",
       "8088391  ffffcd5046a6143d29a04fb8c424ce494a76e5cdf4fab5...    99   \n",
       "8088392  ffffcd5046a6143d29a04fb8c424ce494a76e5cdf4fab5...   106   \n",
       "8088393  ffffcd5046a6143d29a04fb8c424ce494a76e5cdf4fab5...   107   \n",
       "8088394  ffffcd5046a6143d29a04fb8c424ce494a76e5cdf4fab5...   112   \n",
       "8088395  ffffcd5046a6143d29a04fb8c424ce494a76e5cdf4fab5...   118   \n",
       "8088396  ffffcd5046a6143d29a04fb8c424ce494a76e5cdf4fab5...   119   \n",
       "8088397  ffffcd5046a6143d29a04fb8c424ce494a76e5cdf4fab5...   123   \n",
       "8088398  ffffcd5046a6143d29a04fb8c424ce494a76e5cdf4fab5...   131   \n",
       "8088399  ffffcd5046a6143d29a04fb8c424ce494a76e5cdf4fab5...   135   \n",
       "8088400  ffffcd5046a6143d29a04fb8c424ce494a76e5cdf4fab5...   137   \n",
       "\n",
       "                                                         0  \n",
       "8088383                                        [671695001]  \n",
       "8088384                  [562245015, 562245018, 562245004]  \n",
       "8088385                                        [657924001]  \n",
       "8088386       [625939035, 624486001, 702404001, 624486003]  \n",
       "8088387  [740652003, 700851002, 676979007, 507909001, 7...  \n",
       "8088388  [703160006, 685811001, 624486028, 624486051, 6...  \n",
       "8088389                  [759871004, 759871002, 759871001]  \n",
       "8088390  [809025002, 660308001, 681373016, 674606037, 7...  \n",
       "8088391  [706016025, 706016028, 702208002, 706016015, 7...  \n",
       "8088392       [818754003, 624486010, 699623004, 759871013]  \n",
       "8088393  [699623004, 765517001, 663568009, 783333003, 7...  \n",
       "8088394  [819522002, 796705002, 829204002, 806135009, 8...  \n",
       "8088395  [687034024, 739590040, 879891001, 739819009, 8...  \n",
       "8088396                  [845790003, 877009001, 818754002]  \n",
       "8088397  [834217009, 841699003, 511105013, 835802004, 8...  \n",
       "8088398                  [805370005, 668012013, 685816044]  \n",
       "8088399       [853654012, 624486088, 853654002, 759871030]  \n",
       "8088400                                        [762846031]  "
      ]
     },
     "execution_count": 6,
     "metadata": {},
     "output_type": "execute_result"
    }
   ],
   "source": [
    "toy"
   ]
  },
  {
   "cell_type": "code",
   "execution_count": 11,
   "id": "e6edf1ae",
   "metadata": {},
   "outputs": [],
   "source": [
    "def get_seq(df):\n",
    "    import pandas as pd\n",
    "    wk_seq = df.apply(lambda t: [str(t[\"week\"])]*len(eval(t[\"0\"])), axis=1).sum()\n",
    "    item_seq = df[\"0\"].apply(lambda s: [str(i) for i in eval(s)]).sum()\n",
    "    \n",
    "    return pd.DataFrame({\"wk\": [wk_seq], \"item\": [item_seq]})"
   ]
  },
  {
   "cell_type": "code",
   "execution_count": 8,
   "id": "0d4eb720",
   "metadata": {},
   "outputs": [],
   "source": [
    "def get_wk_seq(df):\n",
    "    wk_seq = df.apply(lambda t: [t[\"week\"]]*len(eval(t[\"0\"])), axis=1).sum()\n",
    "    \n",
    "    return wk_seq\n",
    "def get_item_seq(df):\n",
    "    item_seq = df[\"0\"].apply(eval).sum()\n",
    "    return item_seq"
   ]
  },
  {
   "cell_type": "code",
   "execution_count": 9,
   "id": "ec01a6b9",
   "metadata": {},
   "outputs": [
    {
     "name": "stdout",
     "output_type": "stream",
     "text": [
      "Wall time: 13.9 s\n"
     ]
    }
   ],
   "source": [
    "%%time\n",
    "_=cust_week.iloc[:100000, :].groupby(\"customer_id\").apply(get_seq,);"
   ]
  },
  {
   "cell_type": "code",
   "execution_count": 16,
   "id": "d60cf1d3",
   "metadata": {
    "scrolled": true
   },
   "outputs": [
    {
     "data": {
      "application/vnd.jupyter.widget-view+json": {
       "model_id": "9bfe0de887d44877825c2d77c9d4f541",
       "version_major": 2,
       "version_minor": 0
      },
      "text/plain": [
       "VBox(children=(HBox(children=(IntProgress(value=0, description='0.00%', max=2094), Label(value='0 / 2094'))), …"
      ]
     },
     "metadata": {},
     "output_type": "display_data"
    },
    {
     "name": "stdout",
     "output_type": "stream",
     "text": [
      "Wall time: 6.15 s\n"
     ]
    }
   ],
   "source": [
    "%%time\n",
    "_=cust_week.iloc[:100000, :].groupby(\"customer_id\").parallel_apply(get_seq);"
   ]
  },
  {
   "cell_type": "code",
   "execution_count": 23,
   "id": "0a22779c",
   "metadata": {},
   "outputs": [
    {
     "data": {
      "application/vnd.jupyter.widget-view+json": {
       "model_id": "6b12b903c5cf4dfcb480818fe0009727",
       "version_major": 2,
       "version_minor": 0
      },
      "text/plain": [
       "VBox(children=(HBox(children=(IntProgress(value=0, description='0.00%', max=170286), Label(value='0 / 170286')…"
      ]
     },
     "metadata": {},
     "output_type": "display_data"
    },
    {
     "name": "stdout",
     "output_type": "stream",
     "text": [
      "Wall time: 10min 53s\n"
     ]
    }
   ],
   "source": [
    "%%time\n",
    "cust_week_seq = cust_week.groupby(\"customer_id\").parallel_apply(get_seq);"
   ]
  },
  {
   "cell_type": "code",
   "execution_count": 24,
   "id": "2f8d1fb8",
   "metadata": {},
   "outputs": [
    {
     "data": {
      "text/html": [
       "<div>\n",
       "<style scoped>\n",
       "    .dataframe tbody tr th:only-of-type {\n",
       "        vertical-align: middle;\n",
       "    }\n",
       "\n",
       "    .dataframe tbody tr th {\n",
       "        vertical-align: top;\n",
       "    }\n",
       "\n",
       "    .dataframe thead th {\n",
       "        text-align: right;\n",
       "    }\n",
       "</style>\n",
       "<table border=\"1\" class=\"dataframe\">\n",
       "  <thead>\n",
       "    <tr style=\"text-align: right;\">\n",
       "      <th></th>\n",
       "      <th></th>\n",
       "      <th>wk</th>\n",
       "      <th>item</th>\n",
       "    </tr>\n",
       "    <tr>\n",
       "      <th>customer_id</th>\n",
       "      <th></th>\n",
       "      <th></th>\n",
       "      <th></th>\n",
       "    </tr>\n",
       "  </thead>\n",
       "  <tbody>\n",
       "    <tr>\n",
       "      <th>00000dbacae5abe5e23885899a1fa44253a17956c6d1c3d25f88aa139fdfc657</th>\n",
       "      <th>0</th>\n",
       "      <td>[51, 51, 51, 69, 72, 72, 81, 81, 89, 90, 90, 9...</td>\n",
       "      <td>[625548001, 176209023, 627759010, 697138006, 5...</td>\n",
       "    </tr>\n",
       "    <tr>\n",
       "      <th>0000423b00ade91418cceaf3b26c6af3dd342b51fd051eec9c12fb36984420fa</th>\n",
       "      <th>0</th>\n",
       "      <td>[37, 37, 37, 38, 38, 38, 38, 38, 53, 66, 66, 6...</td>\n",
       "      <td>[583558001, 639677008, 640244003, 521269001, 6...</td>\n",
       "    </tr>\n",
       "    <tr>\n",
       "      <th>000058a12d5b43e67d225668fa1f8d618c13dc232df0cad8ffe7ad4a1091e318</th>\n",
       "      <th>0</th>\n",
       "      <td>[37, 37, 38, 60, 109, 109, 109, 117, 117, 119,...</td>\n",
       "      <td>[663713001, 541518023, 663713001, 578020002, 7...</td>\n",
       "    </tr>\n",
       "    <tr>\n",
       "      <th>00005ca1c9ed5f5146b52ac8639a40ca9d57aeff4d1bd2c5feb1ca5dff07c43e</th>\n",
       "      <th>0</th>\n",
       "      <td>[74, 74]</td>\n",
       "      <td>[742079001, 732413001]</td>\n",
       "    </tr>\n",
       "    <tr>\n",
       "      <th>00006413d8573cd20ed7128e53b7b13819fe5cfc2d801fe7fc0f26dd8d65a85a</th>\n",
       "      <th>0</th>\n",
       "      <td>[40, 40, 61, 61, 91, 92, 126, 126, 126, 136, 1...</td>\n",
       "      <td>[634249005, 677049001, 698286003, 707704003, 3...</td>\n",
       "    </tr>\n",
       "  </tbody>\n",
       "</table>\n",
       "</div>"
      ],
      "text/plain": [
       "                                                                                                     wk  \\\n",
       "customer_id                                                                                               \n",
       "00000dbacae5abe5e23885899a1fa44253a17956c6d1c3d... 0  [51, 51, 51, 69, 72, 72, 81, 81, 89, 90, 90, 9...   \n",
       "0000423b00ade91418cceaf3b26c6af3dd342b51fd051ee... 0  [37, 37, 37, 38, 38, 38, 38, 38, 53, 66, 66, 6...   \n",
       "000058a12d5b43e67d225668fa1f8d618c13dc232df0cad... 0  [37, 37, 38, 60, 109, 109, 109, 117, 117, 119,...   \n",
       "00005ca1c9ed5f5146b52ac8639a40ca9d57aeff4d1bd2c... 0                                           [74, 74]   \n",
       "00006413d8573cd20ed7128e53b7b13819fe5cfc2d801fe... 0  [40, 40, 61, 61, 91, 92, 126, 126, 126, 136, 1...   \n",
       "\n",
       "                                                                                                   item  \n",
       "customer_id                                                                                              \n",
       "00000dbacae5abe5e23885899a1fa44253a17956c6d1c3d... 0  [625548001, 176209023, 627759010, 697138006, 5...  \n",
       "0000423b00ade91418cceaf3b26c6af3dd342b51fd051ee... 0  [583558001, 639677008, 640244003, 521269001, 6...  \n",
       "000058a12d5b43e67d225668fa1f8d618c13dc232df0cad... 0  [663713001, 541518023, 663713001, 578020002, 7...  \n",
       "00005ca1c9ed5f5146b52ac8639a40ca9d57aeff4d1bd2c... 0                             [742079001, 732413001]  \n",
       "00006413d8573cd20ed7128e53b7b13819fe5cfc2d801fe... 0  [634249005, 677049001, 698286003, 707704003, 3...  "
      ]
     },
     "execution_count": 24,
     "metadata": {},
     "output_type": "execute_result"
    }
   ],
   "source": [
    "cust_week_seq.head()"
   ]
  },
  {
   "cell_type": "code",
   "execution_count": 25,
   "id": "350f70a3",
   "metadata": {
    "scrolled": true
   },
   "outputs": [
    {
     "name": "stderr",
     "output_type": "stream",
     "text": [
      "C:\\Users\\Francis\\Python\\python39\\lib\\site-packages\\pandas\\core\\generic.py:2703: PerformanceWarning: \n",
      "your performance may suffer as PyTables will pickle object types that it cannot\n",
      "map directly to c-types [inferred_type->mixed,key->block0_values] [items->Index(['wk', 'item'], dtype='object')]\n",
      "\n",
      "  pytables.to_hdf(\n"
     ]
    }
   ],
   "source": [
    "cust_week_seq.to_hdf(\"./cust_week_seq.h5\", key=\"df\")"
   ]
  },
  {
   "cell_type": "code",
   "execution_count": 44,
   "id": "f8958fdd",
   "metadata": {},
   "outputs": [],
   "source": [
    "import torchtext"
   ]
  },
  {
   "cell_type": "code",
   "execution_count": 78,
   "id": "56b40ba4",
   "metadata": {},
   "outputs": [],
   "source": [
    "V = torchtext.vocab.build_vocab_from_iterator(\n",
    "    cust_week_seq[\"item\"][:10000].apply(lambda l: [str(i) for i in l]),\n",
    "        min_freq=5, specials=[\"OOV\"])"
   ]
  },
  {
   "cell_type": "code",
   "execution_count": 79,
   "id": "e2d21e19",
   "metadata": {},
   "outputs": [],
   "source": [
    "V.set_default_index(V.get_stoi()[\"OOV\"])"
   ]
  },
  {
   "cell_type": "code",
   "execution_count": 83,
   "id": "506226af",
   "metadata": {},
   "outputs": [
    {
     "name": "stdout",
     "output_type": "stream",
     "text": [
      "14.5 µs ± 164 ns per loop (mean ± std. dev. of 7 runs, 100000 loops each)\n"
     ]
    }
   ],
   "source": [
    "%timeit V.lookup_indices([str(i) for i in cust_week_seq[\"item\"][1]])"
   ]
  },
  {
   "cell_type": "code",
   "execution_count": null,
   "id": "f9ba4528",
   "metadata": {},
   "outputs": [],
   "source": []
  }
 ],
 "metadata": {
  "kernelspec": {
   "display_name": "Python 3 (ipykernel)",
   "language": "python",
   "name": "python3"
  },
  "language_info": {
   "codemirror_mode": {
    "name": "ipython",
    "version": 3
   },
   "file_extension": ".py",
   "mimetype": "text/x-python",
   "name": "python",
   "nbconvert_exporter": "python",
   "pygments_lexer": "ipython3",
   "version": "3.9.7"
  }
 },
 "nbformat": 4,
 "nbformat_minor": 5
}
